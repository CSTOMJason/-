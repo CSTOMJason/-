{
  "nbformat": 4,
  "nbformat_minor": 0,
  "metadata": {
    "colab": {
      "name": "lstm_email.ipynb",
      "version": "0.3.2",
      "provenance": [],
      "include_colab_link": true
    },
    "kernelspec": {
      "name": "python3",
      "display_name": "Python 3"
    },
    "accelerator": "GPU"
  },
  "cells": [
    {
      "cell_type": "markdown",
      "metadata": {
        "id": "view-in-github",
        "colab_type": "text"
      },
      "source": [
        "<a href=\"https://colab.research.google.com/github/CSTOMJason/nlp/blob/master/lstm_email.ipynb\" target=\"_parent\"><img src=\"https://colab.research.google.com/assets/colab-badge.svg\" alt=\"Open In Colab\"/></a>"
      ]
    },
    {
      "metadata": {
        "id": "ay4vwrvOmJMl",
        "colab_type": "code",
        "outputId": "39b33129-5210-43a4-9875-d76c718f56d6",
        "colab": {
          "base_uri": "https://localhost:8080/",
          "height": 50
        }
      },
      "cell_type": "code",
      "source": [
        "#这是kaggle上的一个数据集上面是使用的keras实现这儿我用tensorflow实现\n",
        "#注意模型的效果还受到初始化的影响你可以尝试不同的初始化来实验模型的效果\n",
        "!pip install sklearn \n"
      ],
      "execution_count": 1,
      "outputs": [
        {
          "output_type": "stream",
          "text": [
            "Requirement already satisfied: sklearn in /usr/local/lib/python3.6/dist-packages (0.0)\n",
            "Requirement already satisfied: scikit-learn in /usr/local/lib/python3.6/dist-packages (from sklearn) (0.19.2)\n"
          ],
          "name": "stdout"
        }
      ]
    },
    {
      "metadata": {
        "id": "eIY3eE17mlKM",
        "colab_type": "code",
        "outputId": "336ac7f3-5d19-466c-ab8c-08d6ae04c99c",
        "colab": {
          "base_uri": "https://localhost:8080/",
          "height": 34
        }
      },
      "cell_type": "code",
      "source": [
        "#加载所用的库\n",
        "import pandas as pd\n",
        "import numpy as np\n",
        "import matplotlib.pyplot as plt\n",
        "import seaborn as sns\n",
        "from sklearn.model_selection import train_test_split\n",
        "from sklearn.preprocessing import LabelEncoder\n",
        "from keras.models import Model\n",
        "from keras.preprocessing.text import Tokenizer\n",
        "from keras.preprocessing import sequence\n",
        "from keras.utils import to_categorical\n",
        "from keras.callbacks import EarlyStopping\n",
        "%matplotlib inline"
      ],
      "execution_count": 2,
      "outputs": [
        {
          "output_type": "stream",
          "text": [
            "Using TensorFlow backend.\n"
          ],
          "name": "stderr"
        }
      ]
    },
    {
      "metadata": {
        "id": "N_L14H6cnOgR",
        "colab_type": "code",
        "outputId": "f62664c6-58b2-4e39-94f8-2bfa816204ac",
        "colab": {
          "base_uri": "https://localhost:8080/",
          "height": 195
        }
      },
      "cell_type": "code",
      "source": [
        "#使用pandas读取数据\n",
        "df = pd.read_csv('spam.csv',delimiter=',',encoding='latin-1')\n",
        "df.head()#查看前面的数据"
      ],
      "execution_count": 3,
      "outputs": [
        {
          "output_type": "execute_result",
          "data": {
            "text/html": [
              "<div>\n",
              "<style scoped>\n",
              "    .dataframe tbody tr th:only-of-type {\n",
              "        vertical-align: middle;\n",
              "    }\n",
              "\n",
              "    .dataframe tbody tr th {\n",
              "        vertical-align: top;\n",
              "    }\n",
              "\n",
              "    .dataframe thead th {\n",
              "        text-align: right;\n",
              "    }\n",
              "</style>\n",
              "<table border=\"1\" class=\"dataframe\">\n",
              "  <thead>\n",
              "    <tr style=\"text-align: right;\">\n",
              "      <th></th>\n",
              "      <th>v1</th>\n",
              "      <th>v2</th>\n",
              "      <th>Unnamed: 2</th>\n",
              "      <th>Unnamed: 3</th>\n",
              "      <th>Unnamed: 4</th>\n",
              "    </tr>\n",
              "  </thead>\n",
              "  <tbody>\n",
              "    <tr>\n",
              "      <th>0</th>\n",
              "      <td>ham</td>\n",
              "      <td>Go until jurong point, crazy.. Available only ...</td>\n",
              "      <td>NaN</td>\n",
              "      <td>NaN</td>\n",
              "      <td>NaN</td>\n",
              "    </tr>\n",
              "    <tr>\n",
              "      <th>1</th>\n",
              "      <td>ham</td>\n",
              "      <td>Ok lar... Joking wif u oni...</td>\n",
              "      <td>NaN</td>\n",
              "      <td>NaN</td>\n",
              "      <td>NaN</td>\n",
              "    </tr>\n",
              "    <tr>\n",
              "      <th>2</th>\n",
              "      <td>spam</td>\n",
              "      <td>Free entry in 2 a wkly comp to win FA Cup fina...</td>\n",
              "      <td>NaN</td>\n",
              "      <td>NaN</td>\n",
              "      <td>NaN</td>\n",
              "    </tr>\n",
              "    <tr>\n",
              "      <th>3</th>\n",
              "      <td>ham</td>\n",
              "      <td>U dun say so early hor... U c already then say...</td>\n",
              "      <td>NaN</td>\n",
              "      <td>NaN</td>\n",
              "      <td>NaN</td>\n",
              "    </tr>\n",
              "    <tr>\n",
              "      <th>4</th>\n",
              "      <td>ham</td>\n",
              "      <td>Nah I don't think he goes to usf, he lives aro...</td>\n",
              "      <td>NaN</td>\n",
              "      <td>NaN</td>\n",
              "      <td>NaN</td>\n",
              "    </tr>\n",
              "  </tbody>\n",
              "</table>\n",
              "</div>"
            ],
            "text/plain": [
              "     v1                                                 v2 Unnamed: 2  \\\n",
              "0   ham  Go until jurong point, crazy.. Available only ...        NaN   \n",
              "1   ham                      Ok lar... Joking wif u oni...        NaN   \n",
              "2  spam  Free entry in 2 a wkly comp to win FA Cup fina...        NaN   \n",
              "3   ham  U dun say so early hor... U c already then say...        NaN   \n",
              "4   ham  Nah I don't think he goes to usf, he lives aro...        NaN   \n",
              "\n",
              "  Unnamed: 3 Unnamed: 4  \n",
              "0        NaN        NaN  \n",
              "1        NaN        NaN  \n",
              "2        NaN        NaN  \n",
              "3        NaN        NaN  \n",
              "4        NaN        NaN  "
            ]
          },
          "metadata": {
            "tags": []
          },
          "execution_count": 3
        }
      ]
    },
    {
      "metadata": {
        "id": "OrE1mVxYmpHt",
        "colab_type": "code",
        "outputId": "d870f336-c53c-4b55-b4c8-4076902d4665",
        "colab": {
          "base_uri": "https://localhost:8080/",
          "height": 134
        }
      },
      "cell_type": "code",
      "source": [
        "#去掉多多余项\n",
        "df.drop(['Unnamed: 2', 'Unnamed: 3', 'Unnamed: 4'],axis=1,inplace=True)\n",
        "df.info()"
      ],
      "execution_count": 4,
      "outputs": [
        {
          "output_type": "stream",
          "text": [
            "<class 'pandas.core.frame.DataFrame'>\n",
            "RangeIndex: 5572 entries, 0 to 5571\n",
            "Data columns (total 2 columns):\n",
            "v1    5572 non-null object\n",
            "v2    5572 non-null object\n",
            "dtypes: object(2)\n",
            "memory usage: 87.1+ KB\n"
          ],
          "name": "stdout"
        }
      ]
    },
    {
      "metadata": {
        "id": "lBGn35HYnJai",
        "colab_type": "code",
        "colab": {}
      },
      "cell_type": "code",
      "source": [
        "X = df.v2\n",
        "Y = df.v1\n",
        "le = LabelEncoder()\n",
        "Y = le.fit_transform(Y)\n",
        "Y = Y.reshape(-1,1)"
      ],
      "execution_count": 0,
      "outputs": []
    },
    {
      "metadata": {
        "id": "P7UuiKY_nb_A",
        "colab_type": "code",
        "colab": {}
      },
      "cell_type": "code",
      "source": [
        "X_train,X_test,Y_train,Y_test = train_test_split(X,Y,test_size=0.15)#训练集和测试集的分割"
      ],
      "execution_count": 0,
      "outputs": []
    },
    {
      "metadata": {
        "id": "XHyuWPyinfTT",
        "colab_type": "code",
        "colab": {}
      },
      "cell_type": "code",
      "source": [
        "#将训练和测试的数据转换为vector（词序列--我差点坑在这而还好有个it前辈的指导)\n",
        "max_words = 1000\n",
        "max_len = 150\n",
        "tok = Tokenizer(num_words=max_words)\n",
        "tok.fit_on_texts(X_train)\n",
        "sequences = tok.texts_to_sequences(X_train)\n",
        "sequences_matrix = sequence.pad_sequences(sequences,maxlen=max_len)\n",
        "sequences_matrix=sequences_matrix\n",
        "trainx=sequences_matrix\n",
        "trainy=Y_train\n",
        "#处理test数据同训练的数据\n",
        "test_sequences = tok.texts_to_sequences(X_test)\n",
        "test_sequences_matrix = sequence.pad_sequences(test_sequences,maxlen=max_len)\n",
        "test_sequences_matrix=test_sequences_matrix\n",
        "testx=test_sequences_matrix\n",
        "testy=Y_test\n"
      ],
      "execution_count": 0,
      "outputs": []
    },
    {
      "metadata": {
        "id": "brVfozL7ng3P",
        "colab_type": "code",
        "colab": {}
      },
      "cell_type": "code",
      "source": [
        "#make标签为one_hot格式\n",
        "def one_HOT(label):\n",
        "  l=[]\n",
        "  for e in label:\n",
        "    e=list(e)\n",
        "    if 0 in e:\n",
        "      e.append(1)\n",
        "    else:\n",
        "      e.append(0)\n",
        "    l.append(e)\n",
        "  return np.array(l)\n",
        "    "
      ],
      "execution_count": 0,
      "outputs": []
    },
    {
      "metadata": {
        "id": "0o5whrne5nhc",
        "colab_type": "code",
        "colab": {}
      },
      "cell_type": "code",
      "source": [
        "trainy=one_HOT(trainy)\n",
        "testy=one_HOT(testy)"
      ],
      "execution_count": 0,
      "outputs": []
    },
    {
      "metadata": {
        "id": "J6gttQKHnncN",
        "colab_type": "code",
        "colab": {}
      },
      "cell_type": "code",
      "source": [
        "import tensorflow as tf\n",
        "xs=tf.placeholder(tf.int32,[None,trainx.shape[1]])\n",
        "ys=tf.placeholder(tf.float32,[None,2])\n",
        "batch_size=tf.placeholder(tf.int32,[])\n",
        "lr=0.0001\n",
        "hidden=512"
      ],
      "execution_count": 0,
      "outputs": []
    },
    {
      "metadata": {
        "id": "jHB-fWs_xLYP",
        "colab_type": "code",
        "colab": {}
      },
      "cell_type": "code",
      "source": [
        "def RNN(x,weight,baise):\n",
        "  #x=tf.reshape(x,[-1,10,15])\n",
        "  lstm=lstm_cell=tf.contrib.rnn.BasicLSTMCell(hidden,forget_bias=True,state_is_tuple=True)\n",
        "  init=lstm.zero_state(batch_size,dtype=tf.float32)\n",
        "  outputs,states=tf.nn.dynamic_rnn(lstm_cell,inputs=x,initial_state=init,time_major=False)\n",
        "  print(outputs)\n",
        "  prediction=tf.nn.relu(tf.matmul(states[-1],weight))+biase\n",
        "  return prediction"
      ],
      "execution_count": 0,
      "outputs": []
    },
    {
      "metadata": {
        "id": "LNVYe9NvxP4S",
        "colab_type": "code",
        "outputId": "2c8c5a18-b645-44f5-d917-5e0da8415243",
        "colab": {
          "base_uri": "https://localhost:8080/",
          "height": 104
        }
      },
      "cell_type": "code",
      "source": [
        "weight=tf.Variable(tf.random_uniform([hidden,2]))\n",
        "biase=tf.Variable(tf.random_uniform([2]))\n",
        "embedding=tf.Variable(tf.random_uniform([trainx.shape[0],128]))#embedding层\n",
        "embeded=tf.nn.embedding_lookup(embedding,xs)\n",
        "pred=RNN(embeded,weight,biase)\n"
      ],
      "execution_count": 12,
      "outputs": [
        {
          "output_type": "stream",
          "text": [
            "WARNING:tensorflow:From <ipython-input-11-6fbc508e9a27>:3: BasicLSTMCell.__init__ (from tensorflow.python.ops.rnn_cell_impl) is deprecated and will be removed in a future version.\n",
            "Instructions for updating:\n",
            "This class is deprecated, please use tf.nn.rnn_cell.LSTMCell, which supports all the feature this cell currently has. Please replace the existing code with tf.nn.rnn_cell.LSTMCell(name='basic_lstm_cell').\n",
            "Tensor(\"rnn/transpose_1:0\", shape=(?, 150, 512), dtype=float32)\n"
          ],
          "name": "stdout"
        }
      ]
    },
    {
      "metadata": {
        "id": "JhPCuDqcxyQL",
        "colab_type": "code",
        "colab": {}
      },
      "cell_type": "code",
      "source": [
        "cross_entropy=tf.reduce_mean( tf.nn.softmax_cross_entropy_with_logits_v2(logits=pred,labels=ys))\n",
        "train_op=tf.train.AdamOptimizer(lr).minimize(cross_entropy)\n",
        "correct_pred=tf.equal(tf.argmax(pred,1),tf.argmax(ys,1))\n",
        "accuracy=tf.reduce_mean(tf.cast(correct_pred,tf.float32))\n"
      ],
      "execution_count": 0,
      "outputs": []
    },
    {
      "metadata": {
        "id": "UdVE6kBQ1YdQ",
        "colab_type": "code",
        "colab": {}
      },
      "cell_type": "code",
      "source": [
        "batch=128\n",
        "num_batch=trainx.shape[0]//batch\n"
      ],
      "execution_count": 0,
      "outputs": []
    },
    {
      "metadata": {
        "id": "_M58Ba16x6da",
        "colab_type": "code",
        "outputId": "67911342-cf80-4ee2-9647-073c4a0ac7bc",
        "colab": {
          "base_uri": "https://localhost:8080/",
          "height": 689
        }
      },
      "cell_type": "code",
      "source": [
        "with tf.Session() as sess:\n",
        "  sess.run(tf.global_variables_initializer())\n",
        "  for i in range(100):\n",
        "    for j in range(num_batch):\n",
        "      batch_x=trainx[j*batch:(j+1)*batch]\n",
        "      batch_y=trainy[j*batch:(j+1)*batch]\n",
        "      sess.run(train_op,feed_dict={xs:batch_x,ys:batch_y,batch_size:batch})\n",
        "    #print(sess.run(pred,feed_dict={xs:batch_x,batch_size:50}))\n",
        "    #print(sess.run(cross_entropy,feed_dict={xs:testx,ys:testy,batch_size:testx.shape[0]}))\n",
        "    if i%5==0:\n",
        "      print(\"%dth--->the loss is %f in the test data\"%(i,sess.run(cross_entropy,feed_dict={xs:testx,ys:testy,batch_size:testx.shape[0]})))\n",
        "      print(\"%dth--->the accuracy is %f in the test data\"%(i,sess.run(accuracy,feed_dict={xs:testx,ys:testy,batch_size:testx.shape[0]})))"
      ],
      "execution_count": 17,
      "outputs": [
        {
          "output_type": "stream",
          "text": [
            "0th--->the loss is 0.295884 in the test data\n",
            "0th--->the accuracy is 0.899522 in the test data\n",
            "5th--->the loss is 0.133478 in the test data\n",
            "5th--->the accuracy is 0.953349 in the test data\n",
            "10th--->the loss is 0.099922 in the test data\n",
            "10th--->the accuracy is 0.962919 in the test data\n",
            "15th--->the loss is 0.093209 in the test data\n",
            "15th--->the accuracy is 0.967703 in the test data\n",
            "20th--->the loss is 0.092865 in the test data\n",
            "20th--->the accuracy is 0.970096 in the test data\n",
            "25th--->the loss is 0.079977 in the test data\n",
            "25th--->the accuracy is 0.971292 in the test data\n",
            "30th--->the loss is 0.087813 in the test data\n",
            "30th--->the accuracy is 0.974880 in the test data\n",
            "35th--->the loss is 0.080888 in the test data\n",
            "35th--->the accuracy is 0.977273 in the test data\n",
            "40th--->the loss is 0.084392 in the test data\n",
            "40th--->the accuracy is 0.977273 in the test data\n",
            "45th--->the loss is 0.093759 in the test data\n",
            "45th--->the accuracy is 0.977273 in the test data\n",
            "50th--->the loss is 0.095902 in the test data\n",
            "50th--->the accuracy is 0.973684 in the test data\n",
            "55th--->the loss is 0.087815 in the test data\n",
            "55th--->the accuracy is 0.973684 in the test data\n",
            "60th--->the loss is 0.063776 in the test data\n",
            "60th--->the accuracy is 0.977273 in the test data\n",
            "65th--->the loss is 0.071373 in the test data\n",
            "65th--->the accuracy is 0.977273 in the test data\n",
            "70th--->the loss is 0.074767 in the test data\n",
            "70th--->the accuracy is 0.977273 in the test data\n",
            "75th--->the loss is 0.083964 in the test data\n",
            "75th--->the accuracy is 0.973684 in the test data\n",
            "80th--->the loss is 0.073353 in the test data\n",
            "80th--->the accuracy is 0.979665 in the test data\n",
            "85th--->the loss is 0.074457 in the test data\n",
            "85th--->the accuracy is 0.979665 in the test data\n",
            "90th--->the loss is 0.078156 in the test data\n",
            "90th--->the accuracy is 0.978469 in the test data\n",
            "95th--->the loss is 0.091245 in the test data\n",
            "95th--->the accuracy is 0.978469 in the test data\n"
          ],
          "name": "stdout"
        }
      ]
    }
  ]
}